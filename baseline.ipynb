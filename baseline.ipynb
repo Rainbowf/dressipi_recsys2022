{
 "cells": [
  {
   "cell_type": "code",
   "execution_count": 63,
   "id": "539ab47e",
   "metadata": {},
   "outputs": [],
   "source": [
    "import os\n",
    "import pandas as pd\n",
    "\n",
    "from datetime import datetime\n",
    "from tqdm import tqdm\n",
    "\n",
    "from collections import defaultdict\n",
    "import math\n",
    "import numpy as np"
   ]
  },
  {
   "cell_type": "code",
   "execution_count": 2,
   "id": "54efcb98",
   "metadata": {},
   "outputs": [],
   "source": [
    "data_dir = '../data/dressipi_recsys2022/'"
   ]
  },
  {
   "cell_type": "code",
   "execution_count": null,
   "id": "cc8b8c9d",
   "metadata": {},
   "outputs": [],
   "source": [
    "train_sessions = pd.read_csv(os.path.join(data_dir, 'train_sessions.csv'))\n",
    "train_purchases = pd.read_csv(os.path.join(data_dir, 'train_purchases.csv'))\n",
    "test_sessions = pd.read_csv(os.path.join(data_dir, 'test_leaderboard_sessions.csv'))"
   ]
  },
  {
   "cell_type": "code",
   "execution_count": 78,
   "id": "1db739f6",
   "metadata": {},
   "outputs": [
    {
     "data": {
      "text/plain": [
       "1.0"
      ]
     },
     "execution_count": 78,
     "metadata": {},
     "output_type": "execute_result"
    }
   ],
   "source": [
    "common_item = len(set(train_sessions['item_id'].unique()) & set(test_session['item_id'].unique()))\n",
    "common_item / test_session['item_id'].nunique()"
   ]
  },
  {
   "cell_type": "code",
   "execution_count": 73,
   "id": "e4911e5e",
   "metadata": {},
   "outputs": [],
   "source": [
    "train_sessions = train_sessions.append(train_purchases)\n",
    "train_sessions = train_sessions.append(test_sessions)"
   ]
  },
  {
   "cell_type": "code",
   "execution_count": 74,
   "id": "297c653c",
   "metadata": {},
   "outputs": [],
   "source": [
    "def get_sim_item(df, session_col, item_col, use_iif=False):\n",
    "    user_item_dict = df.groupby(session_col)[item_col].agg(list).to_dict()\n",
    "    sim_item = {}\n",
    "    item_cnt = defaultdict(int)\n",
    "    for user, items in tqdm(user_item_dict.items()):\n",
    "        for i in items:\n",
    "            item_cnt[i] += 1\n",
    "            sim_item.setdefault(i, {})\n",
    "            for relate_item in items:\n",
    "                if i == relate_item:\n",
    "                    continue\n",
    "                sim_item[i].setdefault(relate_item, 0)\n",
    "                if not use_iif:\n",
    "                    sim_item[i][relate_item] += 1\n",
    "                else:\n",
    "                    sim_item[i][relate_item] += 1 / math.log(1 + len(items))\n",
    "    sim_item_corr = sim_item.copy()\n",
    "    for i, related_items in tqdm(sim_item.items()):\n",
    "        for j, cij in related_items.items():\n",
    "            sim_item_corr[i][j] = cij / math.sqrt(item_cnt[i] * item_cnt[j])\n",
    "\n",
    "    return sim_item_corr  "
   ]
  },
  {
   "cell_type": "code",
   "execution_count": 75,
   "id": "25cc9955",
   "metadata": {},
   "outputs": [],
   "source": [
    "order = train_sessions['item_id'].value_counts().reset_index()\n",
    "order = order.sort_values('item_id', ascending=False)\n",
    "popular_items = list(order['index'])"
   ]
  },
  {
   "cell_type": "code",
   "execution_count": 109,
   "id": "12c85b0c",
   "metadata": {},
   "outputs": [
    {
     "name": "stderr",
     "output_type": "stream",
     "text": [
      "100%|███████████████████████████████████████████████████████████| 1050000/1050000 [00:33<00:00, 31480.98it/s]\n",
      "100%|████████████████████████████████████████████████████████████████| 23683/23683 [00:09<00:00, 2606.82it/s]\n"
     ]
    }
   ],
   "source": [
    "sim_item_corr = get_sim_item(train_sessions, 'session_id','item_id',use_iif=True)"
   ]
  },
  {
   "cell_type": "code",
   "execution_count": 110,
   "id": "5d6c71a5",
   "metadata": {},
   "outputs": [],
   "source": [
    "def recommend(sim_item_corr, popular_items, top_k, session_item_list, item_num=300):  \n",
    "    rank = {}  \n",
    "    for i in session_item_list:  \n",
    "        if i not in sim_item_corr.keys():\n",
    "            continue\n",
    "        for j, wij in sorted(sim_item_corr[i].items(), key=lambda d: d[1], reverse=True)[0:item_num]:  \n",
    "            if j not in session_item_list:  \n",
    "                rank.setdefault(j, 0)  \n",
    "                rank[j] += wij\n",
    "    rank = sorted(rank.items(), key=lambda d: d[1], reverse=True)[:top_k]\n",
    "    rank = np.array(rank)\n",
    "    item_list = list(rank[:,0].astype('int32'))\n",
    "    score_list = rank[:,1]\n",
    "    \n",
    "    if len(item_list)<top_k:\n",
    "        index = 0\n",
    "        while(len(item_list)<top_k):\n",
    "            item_list.append(popular_items[index])\n",
    "            item_list = list(set(item_list))\n",
    "            index +=1\n",
    "            \n",
    "    return item_list, score_list"
   ]
  },
  {
   "cell_type": "code",
   "execution_count": 111,
   "id": "7a36c06e",
   "metadata": {},
   "outputs": [],
   "source": [
    "item_list, score_list=recommend(sim_item_corr,popular_items,100,[9655,15654,2507])"
   ]
  },
  {
   "cell_type": "code",
   "execution_count": 112,
   "id": "11b56058",
   "metadata": {},
   "outputs": [
    {
     "name": "stderr",
     "output_type": "stream",
     "text": [
      "100%|█████████████████████████████████████████████████████████████████| 50000/50000 [02:43<00:00, 304.92it/s]\n"
     ]
    }
   ],
   "source": [
    "top_k = 100\n",
    "test_session_dict = test_sessions.groupby('session_id')['item_id'].agg(list).to_dict()\n",
    "session_id_list = []\n",
    "item_id_list = []\n",
    "rank_list = []\n",
    "for session_id,session_item_list in tqdm(test_session_dict.items()):\n",
    "    item_list, score_list = recommend(sim_item_corr,popular_items,top_k,session_item_list)\n",
    "    \n",
    "    session_id_list += [session_id for _ in range(len(item_list))]\n",
    "    item_id_list += list(item_list)\n",
    "    rank_list += [x for x in range(1,len(item_list)+1)]"
   ]
  },
  {
   "cell_type": "code",
   "execution_count": 113,
   "id": "5875d09b",
   "metadata": {},
   "outputs": [],
   "source": [
    "res_df = pd.DataFrame()\n",
    "res_df['session_id'] = session_id_list\n",
    "res_df['item_id'] = item_id_list\n",
    "res_df['rank'] = rank_list"
   ]
  },
  {
   "cell_type": "code",
   "execution_count": null,
   "id": "4f7360f8",
   "metadata": {},
   "outputs": [],
   "source": [
    "res_df.to_csv('baseline.csv',index=False)"
   ]
  },
  {
   "cell_type": "code",
   "execution_count": null,
   "id": "49ab56ed",
   "metadata": {},
   "outputs": [],
   "source": []
  }
 ],
 "metadata": {
  "interpreter": {
   "hash": "e2bb2cd612a04446fa99f3050489f0da61588228893c7534a603b6644d980661"
  },
  "kernelspec": {
   "display_name": "Python 3.7.11 ('pytorch_gpu')",
   "language": "python",
   "name": "python3"
  },
  "language_info": {
   "codemirror_mode": {
    "name": "ipython",
    "version": 3
   },
   "file_extension": ".py",
   "mimetype": "text/x-python",
   "name": "python",
   "nbconvert_exporter": "python",
   "pygments_lexer": "ipython3",
   "version": "3.7.11"
  }
 },
 "nbformat": 4,
 "nbformat_minor": 5
}
